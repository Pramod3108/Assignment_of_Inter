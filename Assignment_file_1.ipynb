{
 "cells": [
  {
   "cell_type": "markdown",
   "id": "fd34fac8",
   "metadata": {},
   "source": [
    "##### Regular Expressions Assignmnet"
   ]
  },
  {
   "cell_type": "code",
   "execution_count": 21,
   "id": "b0bbed25",
   "metadata": {},
   "outputs": [],
   "source": [
    "#Question 1 ----> Write a Python program to replace all occurrences of a space, comma, or dot with a colon."
   ]
  },
  {
   "cell_type": "code",
   "execution_count": 77,
   "id": "0718daef",
   "metadata": {},
   "outputs": [],
   "source": [
    "import regex as re\n",
    "import re\n",
    "import pandas as pd"
   ]
  },
  {
   "cell_type": "code",
   "execution_count": 19,
   "id": "efe7e23d",
   "metadata": {},
   "outputs": [
    {
     "name": "stdout",
     "output_type": "stream",
     "text": [
      "Python:Exercises::PHP:exercises:\n"
     ]
    }
   ],
   "source": [
    "s = \"[ ,.]\"\n",
    "text = 'Python Exercises, PHP exercises.'\n",
    "result = re.sub( s, \":\", text) \n",
    "print(result)"
   ]
  },
  {
   "cell_type": "code",
   "execution_count": null,
   "id": "0661c2a7",
   "metadata": {},
   "outputs": [],
   "source": [
    "#Question 2--> Create a dataframe using the dictionary below and remove \n",
    "             #everything (commas (,), !, XXXX, ;, etc.) from the columns except words\n",
    "#  Dictionary-{'SUMMARY' : ['hello, world!', 'XXXXX test', '123four, five:; six...']}"
   ]
  },
  {
   "cell_type": "code",
   "execution_count": 56,
   "id": "cbd7d1e7",
   "metadata": {},
   "outputs": [
    {
     "name": "stdout",
     "output_type": "stream",
     "text": [
      "         SUMMARY\n",
      "0    hello world\n",
      "1     XXXXX test\n",
      "2  four five six\n"
     ]
    }
   ],
   "source": [
    "\n",
    "data = {'SUMMARY' : ['hello, world!', 'XXXXX test', '123four, five:; six...']}\n",
    "\n",
    "df = pd.DataFrame(data)\n",
    "\n",
    "df['SUMMARY'] = df['SUMMARY'].str.replace('[^a-zA-Z\\s]', '' , regex = True )\n",
    " \n",
    "print(df)"
   ]
  },
  {
   "cell_type": "code",
   "execution_count": null,
   "id": "d2d2bf92",
   "metadata": {},
   "outputs": [],
   "source": [
    "#Question 3 --->  Create a function in python to find all words     \n",
    "                #that are at least 4 characters long in a string. The use of the re.compile() method is mandatory."
   ]
  },
  {
   "cell_type": "code",
   "execution_count": 75,
   "id": "593447ab",
   "metadata": {},
   "outputs": [
    {
     "name": "stdout",
     "output_type": "stream",
     "text": [
      "Rohit\n",
      "sharma\n",
      "scored\n",
      "CENTURY\n",
      "HALFCENTURY\n"
     ]
    }
   ],
   "source": [
    "import re\n",
    "target_string = 'Rohit sharma has scored of 43 CENTURY and 91 HALFCENTURY'\n",
    "pattern = re.compile(r\"(\\b\\w{4,})\")\n",
    "\n",
    "for m in pattern.finditer(target_string):\n",
    "    print(m.group())\n"
   ]
  },
  {
   "cell_type": "code",
   "execution_count": null,
   "id": "332a86a8",
   "metadata": {},
   "outputs": [],
   "source": [
    "#Question 4 ---->>>Create a function in python to find all three, four, and five character words in a string. \n",
    "                  #The use of the re.compile() method is mandatory."
   ]
  },
  {
   "cell_type": "code",
   "execution_count": 93,
   "id": "beae087e",
   "metadata": {},
   "outputs": [
    {
     "name": "stdout",
     "output_type": "stream",
     "text": [
      "Rohit\n",
      "has\n",
      "three\n",
      "and\n",
      "one\n"
     ]
    }
   ],
   "source": [
    "import re\n",
    "target_string = 'Rohit sharma has scored of fourty three CENTURY and ninety one HALFCENTURY'\n",
    "pattern = re.compile(r\"(\\b\\w{3,5}\\b)\")\n",
    "\n",
    "for m in pattern.finditer(target_string):\n",
    "    print(m.group())"
   ]
  },
  {
   "cell_type": "code",
   "execution_count": null,
   "id": "193af03d",
   "metadata": {},
   "outputs": [],
   "source": [
    "#Question 5- Create a function in Python to remove \n",
    "             #the parenthesis in a list of strings.The use of the re.compile() method is mandatory.\n",
    "    #Sample Text:[\"example (.com)\", \"hr@fliprobo (.com)\", \"github (.com)\", \"Hello (Data Science World)\", \"Data (Scientist)\"]"
   ]
  },
  {
   "cell_type": "code",
   "execution_count": 1,
   "id": "1a2628ac",
   "metadata": {},
   "outputs": [],
   "source": [
    "#  No Answer"
   ]
  },
  {
   "cell_type": "code",
   "execution_count": null,
   "id": "82352d80",
   "metadata": {},
   "outputs": [],
   "source": [
    "#Question 7 --->  Write a regular expression in Python to split a string into uppercase letters.\n",
    "                #Sample text:   “ImportanceOfRegularExpressionsInPython”\n"
   ]
  },
  {
   "cell_type": "code",
   "execution_count": 121,
   "id": "c006766a",
   "metadata": {},
   "outputs": [
    {
     "name": "stdout",
     "output_type": "stream",
     "text": [
      "['Importance', 'Of', 'Regular', 'Expressions', 'In', 'Python']\n"
     ]
    }
   ],
   "source": [
    "target_String = 'ImportanceOfRegularExpressionsInPython'\n",
    "pattern = re.findall('[A-Z][^A-Z]*', target_String)\n",
    "print(pattern)"
   ]
  },
  {
   "cell_type": "code",
   "execution_count": null,
   "id": "c3cb02b9",
   "metadata": {},
   "outputs": [],
   "source": [
    "#Question 8- Create a function in python to insert spaces between words starting with numbers.\n",
    "             #Sample Text: “RegularExpression1IsAn2ImportantTopic3InPython\"\n",
    "             #Expected Output: RegularExpression 1IsAn 2ImportantTopic 3InPython"
   ]
  },
  {
   "cell_type": "code",
   "execution_count": 49,
   "id": "0630e52e",
   "metadata": {},
   "outputs": [],
   "source": [
    "def  space(text):\n",
    "    pattern = r'([A-Za-z]+)(\\d+)'\n",
    "    result = re.sub(pattern ,  r'\\1 \\2',text)\n",
    "    return result\n"
   ]
  },
  {
   "cell_type": "code",
   "execution_count": 50,
   "id": "76fb3ab1",
   "metadata": {},
   "outputs": [
    {
     "name": "stdout",
     "output_type": "stream",
     "text": [
      "RegularExpression 1IsAn 2ImportantTopic 3InPython\n"
     ]
    }
   ],
   "source": [
    "text = 'RegularExpression1IsAn2ImportantTopic3InPython'\n",
    "output=space(text)\n",
    "print(output)"
   ]
  },
  {
   "cell_type": "code",
   "execution_count": null,
   "id": "9649b34e",
   "metadata": {},
   "outputs": [],
   "source": [
    "#Question 9- Create a function in python to insert spaces between words starting with capital letters or with numbers.\n",
    "              #Sample Text: “RegularExpression1IsAn2ImportantTopic3InPython\"\n",
    "             #Expected Output:RegularExpression 1 IsAn 2 ImportantTopic 3 InPython\n"
   ]
  },
  {
   "cell_type": "code",
   "execution_count": 53,
   "id": "368536f8",
   "metadata": {},
   "outputs": [],
   "source": [
    " def  space(text):\n",
    "    pattern = r'([A-Za-z]+)(\\d+)'\n",
    "    result = re.sub(pattern ,  r' \\1  \\2 ',text)\n",
    "    return result"
   ]
  },
  {
   "cell_type": "code",
   "execution_count": 54,
   "id": "12e443f7",
   "metadata": {},
   "outputs": [
    {
     "name": "stdout",
     "output_type": "stream",
     "text": [
      " RegularExpression  1  IsAn  2  ImportantTopic  3 InPython\n"
     ]
    }
   ],
   "source": [
    "text = 'RegularExpression1IsAn2ImportantTopic3InPython'\n",
    "output=space(text)\n",
    "print(output)"
   ]
  },
  {
   "cell_type": "code",
   "execution_count": 56,
   "id": "a4975eb3",
   "metadata": {},
   "outputs": [],
   "source": [
    "#Question 10- Use the github link below to read the data and create a dataframe. After creating the dataframe extract the first 6 letters\n",
    "             #of each country and store in the dataframe under a new column called first_five_letters.\n",
    "       #Github Link- https://raw.githubusercontent.com/dsrscientist/DSData/master/happiness_score_dataset.csv"
   ]
  },
  {
   "cell_type": "code",
   "execution_count": 108,
   "id": "e08f6bbe",
   "metadata": {},
   "outputs": [],
   "source": [
    "\n",
    "url = \"https://raw.githubusercontent.com/dsrscientist/DSData/master/happiness_score_dataset.csv\"\n",
    "df = pd.read_csv(url) \n",
    "df['first_fiv_ltr'] = df['Country'].apply(lambda X:X [:6])\n"
   ]
  },
  {
   "cell_type": "code",
   "execution_count": 107,
   "id": "f8ab6203",
   "metadata": {},
   "outputs": [
    {
     "data": {
      "text/html": [
       "<div>\n",
       "<style scoped>\n",
       "    .dataframe tbody tr th:only-of-type {\n",
       "        vertical-align: middle;\n",
       "    }\n",
       "\n",
       "    .dataframe tbody tr th {\n",
       "        vertical-align: top;\n",
       "    }\n",
       "\n",
       "    .dataframe thead th {\n",
       "        text-align: right;\n",
       "    }\n",
       "</style>\n",
       "<table border=\"1\" class=\"dataframe\">\n",
       "  <thead>\n",
       "    <tr style=\"text-align: right;\">\n",
       "      <th></th>\n",
       "      <th>Country</th>\n",
       "      <th>Region</th>\n",
       "      <th>Happiness Rank</th>\n",
       "      <th>Happiness Score</th>\n",
       "      <th>Standard Error</th>\n",
       "      <th>Economy (GDP per Capita)</th>\n",
       "      <th>Family</th>\n",
       "      <th>Health (Life Expectancy)</th>\n",
       "      <th>Freedom</th>\n",
       "      <th>Trust (Government Corruption)</th>\n",
       "      <th>Generosity</th>\n",
       "      <th>Dystopia Residual</th>\n",
       "      <th>first_fiv_ltr</th>\n",
       "    </tr>\n",
       "  </thead>\n",
       "  <tbody>\n",
       "    <tr>\n",
       "      <th>0</th>\n",
       "      <td>Switzerland</td>\n",
       "      <td>Western Europe</td>\n",
       "      <td>1</td>\n",
       "      <td>7.587</td>\n",
       "      <td>0.03411</td>\n",
       "      <td>1.39651</td>\n",
       "      <td>1.34951</td>\n",
       "      <td>0.94143</td>\n",
       "      <td>0.66557</td>\n",
       "      <td>0.41978</td>\n",
       "      <td>0.29678</td>\n",
       "      <td>2.51738</td>\n",
       "      <td>Switze</td>\n",
       "    </tr>\n",
       "    <tr>\n",
       "      <th>1</th>\n",
       "      <td>Iceland</td>\n",
       "      <td>Western Europe</td>\n",
       "      <td>2</td>\n",
       "      <td>7.561</td>\n",
       "      <td>0.04884</td>\n",
       "      <td>1.30232</td>\n",
       "      <td>1.40223</td>\n",
       "      <td>0.94784</td>\n",
       "      <td>0.62877</td>\n",
       "      <td>0.14145</td>\n",
       "      <td>0.43630</td>\n",
       "      <td>2.70201</td>\n",
       "      <td>Icelan</td>\n",
       "    </tr>\n",
       "    <tr>\n",
       "      <th>2</th>\n",
       "      <td>Denmark</td>\n",
       "      <td>Western Europe</td>\n",
       "      <td>3</td>\n",
       "      <td>7.527</td>\n",
       "      <td>0.03328</td>\n",
       "      <td>1.32548</td>\n",
       "      <td>1.36058</td>\n",
       "      <td>0.87464</td>\n",
       "      <td>0.64938</td>\n",
       "      <td>0.48357</td>\n",
       "      <td>0.34139</td>\n",
       "      <td>2.49204</td>\n",
       "      <td>Denmar</td>\n",
       "    </tr>\n",
       "    <tr>\n",
       "      <th>3</th>\n",
       "      <td>Norway</td>\n",
       "      <td>Western Europe</td>\n",
       "      <td>4</td>\n",
       "      <td>7.522</td>\n",
       "      <td>0.03880</td>\n",
       "      <td>1.45900</td>\n",
       "      <td>1.33095</td>\n",
       "      <td>0.88521</td>\n",
       "      <td>0.66973</td>\n",
       "      <td>0.36503</td>\n",
       "      <td>0.34699</td>\n",
       "      <td>2.46531</td>\n",
       "      <td>Norway</td>\n",
       "    </tr>\n",
       "    <tr>\n",
       "      <th>4</th>\n",
       "      <td>Canada</td>\n",
       "      <td>North America</td>\n",
       "      <td>5</td>\n",
       "      <td>7.427</td>\n",
       "      <td>0.03553</td>\n",
       "      <td>1.32629</td>\n",
       "      <td>1.32261</td>\n",
       "      <td>0.90563</td>\n",
       "      <td>0.63297</td>\n",
       "      <td>0.32957</td>\n",
       "      <td>0.45811</td>\n",
       "      <td>2.45176</td>\n",
       "      <td>Canada</td>\n",
       "    </tr>\n",
       "  </tbody>\n",
       "</table>\n",
       "</div>"
      ],
      "text/plain": [
       "       Country          Region  Happiness Rank  Happiness Score  \\\n",
       "0  Switzerland  Western Europe               1            7.587   \n",
       "1      Iceland  Western Europe               2            7.561   \n",
       "2      Denmark  Western Europe               3            7.527   \n",
       "3       Norway  Western Europe               4            7.522   \n",
       "4       Canada   North America               5            7.427   \n",
       "\n",
       "   Standard Error  Economy (GDP per Capita)   Family  \\\n",
       "0         0.03411                   1.39651  1.34951   \n",
       "1         0.04884                   1.30232  1.40223   \n",
       "2         0.03328                   1.32548  1.36058   \n",
       "3         0.03880                   1.45900  1.33095   \n",
       "4         0.03553                   1.32629  1.32261   \n",
       "\n",
       "   Health (Life Expectancy)  Freedom  Trust (Government Corruption)  \\\n",
       "0                   0.94143  0.66557                        0.41978   \n",
       "1                   0.94784  0.62877                        0.14145   \n",
       "2                   0.87464  0.64938                        0.48357   \n",
       "3                   0.88521  0.66973                        0.36503   \n",
       "4                   0.90563  0.63297                        0.32957   \n",
       "\n",
       "   Generosity  Dystopia Residual first_fiv_ltr  \n",
       "0     0.29678            2.51738        Switze  \n",
       "1     0.43630            2.70201        Icelan  \n",
       "2     0.34139            2.49204        Denmar  \n",
       "3     0.34699            2.46531        Norway  \n",
       "4     0.45811            2.45176        Canada  "
      ]
     },
     "execution_count": 107,
     "metadata": {},
     "output_type": "execute_result"
    }
   ],
   "source": [
    "df.head()"
   ]
  },
  {
   "cell_type": "code",
   "execution_count": null,
   "id": "9d2f5170",
   "metadata": {},
   "outputs": [],
   "source": [
    "#Question 11 -"
   ]
  },
  {
   "cell_type": "code",
   "execution_count": 164,
   "id": "4a34760b",
   "metadata": {},
   "outputs": [
    {
     "name": "stdout",
     "output_type": "stream",
     "text": [
      "h8hjh\n",
      "string is match\n"
     ]
    }
   ],
   "source": [
    "import re\n",
    "text =  input('')\n",
    "pattern1 = r'^[a-zA-Z0-9_]+$'\n",
    "\n",
    "if re.match(pattern1 , text):\n",
    "\n",
    "    print('string is match')\n",
    "        \n",
    "else :\n",
    "    \n",
    "     print('string not match') "
   ]
  },
  {
   "cell_type": "code",
   "execution_count": 167,
   "id": "3868ed1d",
   "metadata": {},
   "outputs": [
    {
     "name": "stdout",
     "output_type": "stream",
     "text": [
      "None\n"
     ]
    }
   ],
   "source": [
    "import re\n",
    "text =  'hello Hello_123'\n",
    "pattern1 = r'[a-zA-Z0-9_]+$'\n",
    "result = re.match(pattern1 , text)\n",
    "print(result)"
   ]
  },
  {
   "cell_type": "code",
   "execution_count": null,
   "id": "8cf37543",
   "metadata": {},
   "outputs": [],
   "source": [
    "#Question 12"
   ]
  },
  {
   "cell_type": "code",
   "execution_count": 155,
   "id": "27afffad",
   "metadata": {},
   "outputs": [
    {
     "name": "stdout",
     "output_type": "stream",
     "text": [
      "1234asdcfv\n"
     ]
    }
   ],
   "source": [
    "    text = 'zvsdgd 1234asdcfv'\n",
    "    pattern = r'(\\d+)([A-Za-z]+)'\n",
    "    result = re.search(pattern,text)\n",
    "    print(result.group())"
   ]
  },
  {
   "cell_type": "code",
   "execution_count": null,
   "id": "3e90457a",
   "metadata": {},
   "outputs": [],
   "source": [
    "#Question 13- Write a Python program to remove leading zeros from an IP address"
   ]
  },
  {
   "cell_type": "code",
   "execution_count": 176,
   "id": "9a80457a",
   "metadata": {},
   "outputs": [
    {
     "name": "stdout",
     "output_type": "stream",
     "text": [
      "286.11.4.2\n"
     ]
    }
   ],
   "source": [
    " y = '0'\n",
    " ip = \"192.168.001.001\" \n",
    " ip1 = '286.011.40.20'\n",
    " replaced_text = re.sub(y, \"\" , ip1) \n",
    " print(replaced_text)  "
   ]
  },
  {
   "cell_type": "code",
   "execution_count": null,
   "id": "fcc362ac",
   "metadata": {},
   "outputs": [],
   "source": [
    "#Question 14 --->"
   ]
  },
  {
   "cell_type": "code",
   "execution_count": 17,
   "id": "9ddcfb07",
   "metadata": {},
   "outputs": [
    {
     "name": "stdout",
     "output_type": "stream",
     "text": [
      "August 15th 1947\n"
     ]
    }
   ],
   "source": [
    "text = 'On August 15th 1947  that India was declared independent from British colonialism, and the reins of control were handed over to the leaders of the Country’'\n",
    "#pattern = r'(\\d+)([A-Za-z]+)'\n",
    "result = re.search(r'A[A-Za-z].+(\\b\\d+)', text)\n",
    "print(result.group())\n"
   ]
  },
  {
   "cell_type": "code",
   "execution_count": 19,
   "id": "8d23289c",
   "metadata": {},
   "outputs": [],
   "source": [
    "#Question 15- Write a Python program to search some literals strings in a string. \n",
    "#Sample text : 'The quick brown fox jumps over the lazy dog.'\n",
    "#Searched words : 'fox', 'dog', 'horse'"
   ]
  },
  {
   "cell_type": "code",
   "execution_count": 54,
   "id": "6acac08c",
   "metadata": {},
   "outputs": [
    {
     "name": "stdout",
     "output_type": "stream",
     "text": [
      "['fox', 'dog']\n"
     ]
    }
   ],
   "source": [
    "text = 'The quick brown fox jumps over the lazy dog.'\n",
    "\n",
    "pattern = 'f[A-Za-z]+|d[\\w]+'\n",
    "result = re.findall(pattern,text)\n",
    "print(result)\n"
   ]
  },
  {
   "cell_type": "code",
   "execution_count": 57,
   "id": "1acda7f7",
   "metadata": {},
   "outputs": [
    {
     "name": "stdout",
     "output_type": "stream",
     "text": [
      "fox\n",
      "dog\n"
     ]
    }
   ],
   "source": [
    "text = 'The quick brown fox jumps over the lazy dog.'\n",
    "\n",
    "result = re.search(r'f[A-Za-z]+',text)\n",
    "result1 = re.search(r'd[A-Za-z]+',text)\n",
    "print(result.group())\n",
    "print(result1.group())"
   ]
  },
  {
   "cell_type": "code",
   "execution_count": 44,
   "id": "d3ee1a92",
   "metadata": {},
   "outputs": [
    {
     "name": "stdout",
     "output_type": "stream",
     "text": [
      "Words Matched\n"
     ]
    }
   ],
   "source": [
    "text = 'The quick brown fox jumps over the lazy dog.'\n",
    "pattern  = re.search('cat|dog|fox|horse', text)\n",
    "if pattern:\n",
    "    print('Words Matched')\n",
    "else:\n",
    "    print('no match')"
   ]
  },
  {
   "cell_type": "markdown",
   "id": "d7df6eed",
   "metadata": {},
   "source": [
    "###### Question 16- Write a Python program to search a literals string in a string and also find the location within the original string where the pattern occurs\n",
    "#Sample text : 'The quick brown fox jumps over the lazy dog.'\n",
    "#Searched words : 'fox'\n"
   ]
  },
  {
   "cell_type": "code",
   "execution_count": 49,
   "id": "66d5e6d3",
   "metadata": {
    "scrolled": true
   },
   "outputs": [
    {
     "name": "stdout",
     "output_type": "stream",
     "text": [
      "<re.Match object; span=(16, 19), match='fox'>\n",
      "fox\n"
     ]
    }
   ],
   "source": [
    "text = 'The quick brown fox jumps over the lazy dog.'\n",
    "result = re.search(r'f[A-Za-z]+',text)\n",
    "print(result)\n",
    "print(result.group())"
   ]
  },
  {
   "cell_type": "markdown",
   "id": "1c7cab6e",
   "metadata": {},
   "source": [
    "###### Question 17- Write a Python program to find the substrings within a string.\n",
    "Sample text : 'Python exercises, PHP exercises, C# exercises'\n",
    "#Pattern : 'exercises'.\n"
   ]
  },
  {
   "cell_type": "code",
   "execution_count": 79,
   "id": "eb4e0702",
   "metadata": {},
   "outputs": [
    {
     "name": "stdout",
     "output_type": "stream",
     "text": [
      "['exercises', 'exercises', 'exercises']\n"
     ]
    }
   ],
   "source": [
    "text = 'Python exercises, PHP exercises, C# exercises'\n",
    "pattern = 'e[A-Za-z]+'  \n",
    "result = re.findall(pattern,text)\n",
    "print(result)\n"
   ]
  },
  {
   "cell_type": "code",
   "execution_count": 78,
   "id": "477d495c",
   "metadata": {},
   "outputs": [
    {
     "name": "stdout",
     "output_type": "stream",
     "text": [
      "(36, 45)\n"
     ]
    }
   ],
   "source": [
    "text = 'Python exercises, PHP exercises, C# exercises'\n",
    "result = re.search(r'e[A-Za-z]+',text)\n",
    "print(match.span())\n",
    "    "
   ]
  },
  {
   "cell_type": "code",
   "execution_count": 68,
   "id": "55480e85",
   "metadata": {},
   "outputs": [
    {
     "name": "stdout",
     "output_type": "stream",
     "text": [
      "string 'exercises' found at position (7, 16)\n",
      "string 'exercises' found at position (22, 31)\n",
      "string 'exercises' found at position (36, 45)\n"
     ]
    }
   ],
   "source": [
    "target_string = 'Python exercises, PHP exercises, C# exercises'\n",
    "substring = 'exercises'\n",
    "m1 = re.finditer(substring, target_string)\n",
    "for match in m1:\n",
    "    print('string \\'{}\\''.format(substring), 'found at position', match.span())"
   ]
  },
  {
   "cell_type": "markdown",
   "id": "3f5d0dbf",
   "metadata": {},
   "source": [
    "###### Question 18- Write a Python program to find the occurrence and position of the substrings within a string."
   ]
  },
  {
   "cell_type": "code",
   "execution_count": 82,
   "id": "b92b7e66",
   "metadata": {},
   "outputs": [
    {
     "name": "stdout",
     "output_type": "stream",
     "text": [
      "Found \"exercises\" at 7:16\n",
      "Found \"exercises\" at 22:31\n",
      "Found \"exercises\" at 36:45\n"
     ]
    }
   ],
   "source": [
    "import re\n",
    "text = 'Python exercises, PHP exercises, C# exercises'\n",
    "pattern = 'exercises'\n",
    "for match in re.finditer(pattern, text):\n",
    "    s = match.start()\n",
    "    e = match.end()\n",
    "    print('Found \"%s\" at %d:%d' % (text[s:e], s, e))"
   ]
  },
  {
   "cell_type": "markdown",
   "id": "ea1d84e5",
   "metadata": {},
   "source": [
    "###### Question 19- Write a Python program to convert a date of yyyy-mm-dd format to dd-mm-yyyy format."
   ]
  },
  {
   "cell_type": "code",
   "execution_count": 93,
   "id": "dee25967",
   "metadata": {},
   "outputs": [
    {
     "name": "stdout",
     "output_type": "stream",
     "text": [
      "2024-03-03 \n",
      " 03-03-2024\n"
     ]
    }
   ],
   "source": [
    "import re\n",
    "dt1 = \"2024-03-03\" \n",
    "pattern = re.sub(r'(r\\d{4})-(\\d{1,2})-(\\d{1,2})', '\\\\3-\\\\2-\\\\1', dt1)\n",
    "print(pattern, '\\n', change_date_format(dt1))"
   ]
  },
  {
   "cell_type": "markdown",
   "id": "c05105ec",
   "metadata": {},
   "source": [
    "###### Question 20- Create a function in python to find all decimal numbers with a precision of 1 or 2 in a string.The use of the re.compile() method is mandatory."
   ]
  },
  {
   "cell_type": "code",
   "execution_count": 136,
   "id": "75aa3c88",
   "metadata": {},
   "outputs": [],
   "source": [
    " def  decimal_num(string):\n",
    "        pattern = re.compile(r'\\d+\\.\\d{1,2}')\n",
    "        #pat1 = re.compile(r\"^[0-9].+(\\.[0-9]{1,2})\")\n",
    "        decimal_number = re.findall(pattern, string)\n",
    "        #for match in pat1.finditer(string):\n",
    "        return decimal_number  \n",
    "         #return match"
   ]
  },
  {
   "cell_type": "code",
   "execution_count": 137,
   "id": "4fa9f761",
   "metadata": {},
   "outputs": [
    {
     "name": "stdout",
     "output_type": "stream",
     "text": [
      "['01.12', '0132.12', '2.31', '145.8', '3.01', '27.25', '0.25']\n"
     ]
    }
   ],
   "source": [
    "text = \"01.12 0132.123 2.31875 145.8 3.01 27.25 0.25\"\n",
    "output = decimal_num(text)\n",
    "print(output)"
   ]
  },
  {
   "cell_type": "markdown",
   "id": "ba70833f",
   "metadata": {},
   "source": [
    "###### Question 21- Write a Python program to separate and print the numbers and their position of a given string."
   ]
  },
  {
   "cell_type": "code",
   "execution_count": 3,
   "id": "4ac76568",
   "metadata": {},
   "outputs": [
    {
     "name": "stdout",
     "output_type": "stream",
     "text": [
      "match object -> <re.Match object; span=(42, 43), match='5'>\n",
      "match value -> 5\n",
      "Index Value -> 42\n"
     ]
    }
   ],
   "source": [
    "target_string = 'virat is a cricket player who was born on 5 november 1988'\n",
    "result = re.search('\\d+', target_string)\n",
    "print('match object ->', result)\n",
    "print('match value ->', result.group())  \n",
    "print('Index Value ->', result.start()) "
   ]
  },
  {
   "cell_type": "markdown",
   "id": "46be45a2",
   "metadata": {},
   "source": [
    "###### Question 22- Write a regular expression in python program to extract maximum/largest numeric value from a string."
   ]
  },
  {
   "cell_type": "markdown",
   "id": "892569f5",
   "metadata": {},
   "source": [
    "###### Sample Text: 'My marks in each semester are:  947, 896, 926, 524, 734, 950, 642'\n",
    "Expected Output :  950"
   ]
  },
  {
   "cell_type": "code",
   "execution_count": 4,
   "id": "7e48a8bc",
   "metadata": {},
   "outputs": [
    {
     "name": "stdout",
     "output_type": "stream",
     "text": [
      "950\n"
     ]
    }
   ],
   "source": [
    "num = '947, 896, 926, 524, 734, 950, 642'\n",
    "pattern = ('\\d+')\n",
    "\n",
    "max_num = re.findall(pattern, num)\n",
    "print(max(max_num))"
   ]
  },
  {
   "cell_type": "markdown",
   "id": "73c7ca4e",
   "metadata": {},
   "source": [
    "###### Question 24-Python regex to find sequences of one upper case letter followed by lower case letters\n"
   ]
  },
  {
   "cell_type": "code",
   "execution_count": 15,
   "id": "fa91e1dd",
   "metadata": {},
   "outputs": [
    {
     "name": "stdout",
     "output_type": "stream",
     "text": [
      "['Python', 'Find', 'Sequences', 'Upper', 'Letter', 'Followed', 'Lower', 'Letters']\n"
     ]
    }
   ],
   "source": [
    "import re\n",
    "text = 'Python regex to Find Sequences of one Upper case Letter Followed by Lower case Letters'\n",
    "pattern = r'[A-Z][a-z]+'\n",
    "Output = re.findall(pattern,text)\n",
    "print(Output)          \n",
    "          "
   ]
  },
  {
   "cell_type": "markdown",
   "id": "80833004",
   "metadata": {},
   "source": [
    "###### Question 25-Write a Python program to remove continuous duplicate words from Sentence using Regular Expression."
   ]
  },
  {
   "cell_type": "markdown",
   "id": "a5d4a4f3",
   "metadata": {},
   "source": [
    "###### Sample Text:\"Hello hello world world\"\n",
    "Expected Output: Hello hello world\n"
   ]
  },
  {
   "cell_type": "code",
   "execution_count": 28,
   "id": "068dbda9",
   "metadata": {},
   "outputs": [
    {
     "name": "stdout",
     "output_type": "stream",
     "text": [
      "Hello hello world\n"
     ]
    }
   ],
   "source": [
    "text  = 'Hello hello world world'\n",
    "\n",
    "pattern1 = r'\\b(\\w+)(\\s+\\1\\b)+'\n",
    "result = re.sub(pattern1, r'\\1' ,text)\n",
    "print(result)\n"
   ]
  },
  {
   "cell_type": "markdown",
   "id": "939f1d37",
   "metadata": {},
   "source": [
    "###### Question 26- Write a python program using RegEx to accept string ending with alphanumeric character."
   ]
  },
  {
   "cell_type": "code",
   "execution_count": 66,
   "id": "64b1959b",
   "metadata": {},
   "outputs": [
    {
     "name": "stdout",
     "output_type": "stream",
     "text": [
      "['Rupees2500']\n"
     ]
    }
   ],
   "source": [
    "\n",
    "text = \"this item cost Rupees2500 and RS two thousend\"   \n",
    "result = re.findall(r\"(\\b\\w+\\d+)\", text)\n",
    "print(result) "
   ]
  },
  {
   "cell_type": "markdown",
   "id": "8ce19c5a",
   "metadata": {},
   "source": [
    "###### Question 27-Write a python program using RegEx to extract the hashtags."
   ]
  },
  {
   "cell_type": "markdown",
   "id": "aaa66974",
   "metadata": {},
   "source": [
    "###### Sample Text: \"\"\"RT @kapil_kausik: #Doltiwal I mean #xyzabc is \"hurt\" by #Demonetization as the same has rendered USELESS <ed><U+00A0><U+00BD><ed><U+00B1><U+0089> \"acquired funds\" No wo\"\"\"\n",
    "Expected Output:['#Doltiwal', '#xyzabc', '#Demonetization']\n"
   ]
  },
  {
   "cell_type": "code",
   "execution_count": 75,
   "id": "6d210990",
   "metadata": {},
   "outputs": [
    {
     "name": "stdout",
     "output_type": "stream",
     "text": [
      "['#Doltiwal', '#xyzabc', '#Demonetization']\n"
     ]
    }
   ],
   "source": [
    "\n",
    "text = \"\"\"\"RT @kapil_kausik: #Doltiwal I mean #xyzabc is \"hurt\" by #Demonetization as the same has rendered USELESS <U+00A0><U+00BD><U+00B1><U+0089> \"acquired funds\" No wo\"\"\"\n",
    "result = re.findall(r'#\\w+', text)\n",
    "print(result) \n"
   ]
  },
  {
   "cell_type": "markdown",
   "id": "58cc4d6c",
   "metadata": {},
   "source": [
    "###### Question 28- Write a python program using RegEx to remove <U+..> like symbols"
   ]
  },
  {
   "cell_type": "code",
   "execution_count": 76,
   "id": "355b7f01",
   "metadata": {},
   "outputs": [],
   "source": [
    "#Expected Output:@Jags123456 Bharat band on 28??<ed><ed>Those \n",
    "#who are protesting #demonetization  are all different party leaders"
   ]
  },
  {
   "cell_type": "code",
   "execution_count": 100,
   "id": "41d9f557",
   "metadata": {},
   "outputs": [
    {
     "name": "stdout",
     "output_type": "stream",
     "text": [
      "@Jags123456 Bharat band on 28??<ed><ed>Those who  are protesting #demonetization  are all different party leaders\n"
     ]
    }
   ],
   "source": [
    "import re\n",
    "text = \"@Jags123456 Bharat band on 28??<ed><U+00A0><U+00BD><ed><U+00B8><U+0082>Those who  are protesting #demonetization  are all different party leaders\"\n",
    "pattern1 = r\"<U\\+\\w{4}>\"\n",
    "result = re.sub(pattern1 , \"\" , text)\n",
    "\n",
    "print(result)\n"
   ]
  },
  {
   "cell_type": "markdown",
   "id": "c68940d9",
   "metadata": {},
   "source": [
    "###### Question 30- Create a function inpython to remove all words from a string of length between 2 and 4."
   ]
  },
  {
   "cell_type": "code",
   "execution_count": 119,
   "id": "e478942a",
   "metadata": {},
   "outputs": [],
   "source": [
    "def remove_words(string):\n",
    "    pattern = re.compile(r'\\b\\w{2,4}\\b')\n",
    "   \n",
    "    out_put = re.sub(pattern, \"\" , string)\n",
    "    return out_put\n",
    "   "
   ]
  },
  {
   "cell_type": "code",
   "execution_count": 120,
   "id": "ffca1a5d",
   "metadata": {},
   "outputs": [
    {
     "name": "stdout",
     "output_type": "stream",
     "text": [
      "  using regular expressions   purpose,  first     basics  regular expressions\n"
     ]
    }
   ],
   "source": [
    "text = \"we are using regular expressions for this purpose, we first need to know some basics of regular expressions\"\n",
    "result = remove_words(text)\n",
    "print(result)\n"
   ]
  },
  {
   "cell_type": "code",
   "execution_count": null,
   "id": "9f9e714d",
   "metadata": {},
   "outputs": [],
   "source": []
  }
 ],
 "metadata": {
  "kernelspec": {
   "display_name": "Python 3 (ipykernel)",
   "language": "python",
   "name": "python3"
  },
  "language_info": {
   "codemirror_mode": {
    "name": "ipython",
    "version": 3
   },
   "file_extension": ".py",
   "mimetype": "text/x-python",
   "name": "python",
   "nbconvert_exporter": "python",
   "pygments_lexer": "ipython3",
   "version": "3.11.4"
  }
 },
 "nbformat": 4,
 "nbformat_minor": 5
}
